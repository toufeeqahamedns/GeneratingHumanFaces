{
 "cells": [
  {
   "cell_type": "code",
   "execution_count": null,
   "metadata": {},
   "outputs": [],
   "source": [
    "DATA_BUCKET='sagemaker-generatinghumanfaces'\n",
    "OUTPUT_BUCKET = 'sagemaker-generatinghumanfaces-output'\n",
    "\n",
    "from sagemaker import get_execution_role\n",
    "role = get_execution_role()\n",
    "print(role)"
   ]
  },
  {
   "cell_type": "code",
   "execution_count": null,
   "metadata": {},
   "outputs": [],
   "source": [
    "from sagemaker.pytorch import PyTorch\n",
    "\n",
    "pytorch_estimator = PyTorch(entry_point='train_sagemaker.py',\n",
    "                            role=role,\n",
    "                            train_instance_type='ml.m5.xlarge',  \n",
    "                            train_instance_count=1,\n",
    "                            framework_version='1.0.0',\n",
    "                            source_dir='./sourcecode',\n",
    "                            output_path='s3://{}/generatinghumanfaces/model'.format(OUTPUT_BUCKET),\n",
    "                            hyperparameters = {\n",
    "                                'encoder_file': 's3://{}/infersent2/infersent2.pkl'.format(DATA_BUCKET),\n",
    "                                'embedding_file': 's3://{}/fasttext/crawl-300d-2M.vec'.format(DATA_BUCKET),\n",
    "                            })"
   ]
  },
  {
   "cell_type": "code",
   "execution_count": null,
   "metadata": {},
   "outputs": [],
   "source": [
    "pytorch_estimator.fit({'training': 's3://{}/data'.format(DATA_BUCKET)})"
   ]
  }
 ],
 "metadata": {
  "language_info": {
   "codemirror_mode": {
    "name": "ipython",
    "version": 3
   },
   "file_extension": ".py",
   "mimetype": "text/x-python",
   "name": "python",
   "nbconvert_exporter": "python",
   "pygments_lexer": "ipython3",
   "version": 3
  },
  "orig_nbformat": 2
 },
 "nbformat": 4,
 "nbformat_minor": 2
}